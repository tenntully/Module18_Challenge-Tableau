{
 "cells": [
  {
   "cell_type": "code",
   "execution_count": 2,
   "id": "33980f69",
   "metadata": {},
   "outputs": [
    {
     "name": "stderr",
     "output_type": "stream",
     "text": [
      "/var/folders/pf/44qwd9f54h7f1cqwhnnmjrjr0000gn/T/ipykernel_5058/914452680.py:7: DtypeWarning: Columns (5) have mixed types. Specify dtype option on import or set low_memory=False.\n",
      "  data = pd.read_csv('2023040-citibike-tripdata.csv')\n"
     ]
    }
   ],
   "source": [
    "import pandas as pd\n",
    "import requests\n",
    "\n",
    "geoapify_key = \"3a97a8ac79c943f98f95319fc9d33fcb\"\n",
    "\n",
    "# Read the CSV file into a Pandas DataFrame\n",
    "data = pd.read_csv('2023040-citibike-tripdata.csv')\n",
    "\n",
    "# Extract unique station coordinates\n",
    "unique_stations = data[['start_lat', 'start_lng']].drop_duplicates()\n",
    "\n",
    "# Initialize an empty list to store the zip codes\n",
    "zip_codes = []"
   ]
  },
  {
   "cell_type": "code",
   "execution_count": 4,
   "id": "1d1a41f8",
   "metadata": {},
   "outputs": [
    {
     "ename": "KeyError",
     "evalue": "'postcode'",
     "output_type": "error",
     "traceback": [
      "\u001b[0;31m---------------------------------------------------------------------------\u001b[0m",
      "\u001b[0;31mKeyError\u001b[0m                                  Traceback (most recent call last)",
      "Cell \u001b[0;32mIn[4], line 11\u001b[0m\n\u001b[1;32m      9\u001b[0m \u001b[38;5;28;01mif\u001b[39;00m response\u001b[38;5;241m.\u001b[39mstatus_code \u001b[38;5;241m==\u001b[39m \u001b[38;5;241m200\u001b[39m:\n\u001b[1;32m     10\u001b[0m     data \u001b[38;5;241m=\u001b[39m response\u001b[38;5;241m.\u001b[39mjson()\n\u001b[0;32m---> 11\u001b[0m     zip_code \u001b[38;5;241m=\u001b[39m \u001b[43mdata\u001b[49m\u001b[43m[\u001b[49m\u001b[38;5;124;43m'\u001b[39;49m\u001b[38;5;124;43mfeatures\u001b[39;49m\u001b[38;5;124;43m'\u001b[39;49m\u001b[43m]\u001b[49m\u001b[43m[\u001b[49m\u001b[38;5;241;43m0\u001b[39;49m\u001b[43m]\u001b[49m\u001b[43m[\u001b[49m\u001b[38;5;124;43m'\u001b[39;49m\u001b[38;5;124;43mproperties\u001b[39;49m\u001b[38;5;124;43m'\u001b[39;49m\u001b[43m]\u001b[49m\u001b[43m[\u001b[49m\u001b[38;5;124;43m'\u001b[39;49m\u001b[38;5;124;43mpostcode\u001b[39;49m\u001b[38;5;124;43m'\u001b[39;49m\u001b[43m]\u001b[49m\n\u001b[1;32m     12\u001b[0m     zip_codes\u001b[38;5;241m.\u001b[39mappend(zip_code)\n\u001b[1;32m     13\u001b[0m \u001b[38;5;28;01melse\u001b[39;00m:\n",
      "\u001b[0;31mKeyError\u001b[0m: 'postcode'"
     ]
    }
   ],
   "source": [
    "# Iterate over the unique stations and make API calls\n",
    "for _, row in unique_stations.iterrows():\n",
    "    lat, lng = row['start_lat'], row['start_lng']\n",
    "    \n",
    "    # Make an API request to Geoapify Geocoding API\n",
    "    response = requests.get(f'https://api.geoapify.com/v1/geocode/reverse?lat={lat}&lon={lng}&apiKey={geoapify_key}')\n",
    "    \n",
    "    # Extract the zip code from the API response\n",
    "    if response.status_code == 200:\n",
    "        data = response.json()\n",
    "        zip_code = data['features'][0]['properties']['postcode']\n",
    "        zip_codes.append(zip_code)\n",
    "    else:\n",
    "        zip_codes.append(None)  # Handle the case when API request fails or no zip code is found"
   ]
  },
  {
   "cell_type": "code",
   "execution_count": null,
   "id": "5d921c61",
   "metadata": {},
   "outputs": [],
   "source": [
    "# Add the zip codes to the DataFrame\n",
    "unique_stations['zip_code'] = zip_codes\n",
    "\n",
    "# Merge the zip code information back to the original data\n",
    "data_with_zip = pd.merge(data, unique_stations, on=['latitude', 'longitude'], how='left')\n",
    "\n",
    "# Save the modified DataFrame to a new CSV file\n",
    "data_with_zip.to_csv('2023040-citibike-tripdata.csv', index=False)"
   ]
  },
  {
   "cell_type": "code",
   "execution_count": null,
   "id": "6554e766",
   "metadata": {},
   "outputs": [],
   "source": []
  }
 ],
 "metadata": {
  "kernelspec": {
   "display_name": "Python 3 (ipykernel)",
   "language": "python",
   "name": "python3"
  },
  "language_info": {
   "codemirror_mode": {
    "name": "ipython",
    "version": 3
   },
   "file_extension": ".py",
   "mimetype": "text/x-python",
   "name": "python",
   "nbconvert_exporter": "python",
   "pygments_lexer": "ipython3",
   "version": "3.11.2"
  }
 },
 "nbformat": 4,
 "nbformat_minor": 5
}
